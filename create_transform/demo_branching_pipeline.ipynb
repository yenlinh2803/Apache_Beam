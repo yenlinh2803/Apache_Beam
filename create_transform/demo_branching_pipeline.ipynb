{
 "cells": [
  {
   "cell_type": "code",
   "execution_count": 4,
   "metadata": {},
   "outputs": [],
   "source": [
    "import apache_beam as beam"
   ]
  },
  {
   "cell_type": "code",
   "execution_count": 34,
   "metadata": {},
   "outputs": [
    {
     "name": "stderr",
     "output_type": "stream",
     "text": [
      "WARNING:apache_beam.io.filebasedsink:Deleting 1 existing files in target path matching: -*-of-%(num_shards)05d\n"
     ]
    },
    {
     "data": {
      "text/plain": [
       "<apache_beam.runners.portability.fn_api_runner.fn_runner.RunnerResult at 0x124016210>"
      ]
     },
     "execution_count": 34,
     "metadata": {},
     "output_type": "execute_result"
    }
   ],
   "source": [
    "def SplitRow(element):\n",
    "    return element.split(',')\n",
    "\n",
    "                                                                                                                                                                                                                                                                                                                                                                                                                                                                                                                                                                                                                                                                                                                                                                                                                                                                                                                                                                                                                                                                                                                                                                                                                                                                                                                                                                                                    \n",
    "p = beam.Pipeline()\n",
    "input_collection = (\n",
    "    p\n",
    "    |\"Read from text file\">> beam.io.ReadFromText('dept_data.txt')\n",
    "    |\"Split rows\" >> beam.Map(SplitRow)\n",
    ")\n",
    "\n",
    "account_count =(\n",
    "    input_collection                    \n",
    "    |'Get all Accounts dept people' >> beam.Filter(lambda record: record[3]=='Accounts')\n",
    "    |'Pair each accounts employee with 1' >> beam.Map(lambda record: (\"Accounts, \"+record[1],1))\n",
    "    |\"Group and sum\" >> beam.CombinePerKey(sum)\n",
    "#     |'Write results for account' >> beam.io.WriteToText('data/Account')\n",
    ")\n",
    "hr_count = (\n",
    "    input_collection\n",
    "    |'Get all HR dept persons' >> beam.Filter(lambda record: record[3] == 'HR')\n",
    "    |'Pair each hr employee with 1' >> beam.Map(lambda record: (\"HR, \"+record[1],1))\n",
    "    |\"Group by key and sum\" >> beam.CombinePerKey(sum)\n",
    "#     |'Write for results for hr' >> beam.io.WriteToText('data/HR')\n",
    ")\n",
    "\n",
    "output = (\n",
    "            (account_count,hr_count )\n",
    "    |beam.Flatten()\n",
    "    |beam.io.WriteToText('data/both')\n",
    ")\n",
    "p.run()"
   ]
  },
  {
   "cell_type": "code",
   "execution_count": 35,
   "metadata": {},
   "outputs": [
    {
     "name": "stdout",
     "output_type": "stream",
     "text": [
      "('HR, Beryl', 62)\r\n",
      "('HR, Olga', 31)\r\n",
      "('HR, Leslie', 31)\r\n",
      "('HR, Mindy', 31)\r\n",
      "('HR, Vicky', 31)\r\n",
      "('HR, Richard', 31)\r\n",
      "('HR, Kirk', 31)\r\n",
      "('HR, Kaori', 31)\r\n",
      "('HR, Oscar', 31)\r\n",
      "('Accounts, Marco', 31)\r\n",
      "('Accounts, Rebekah', 31)\r\n",
      "('Accounts, Itoe', 31)\r\n",
      "('Accounts, Edouard', 31)\r\n",
      "('Accounts, Kyle', 62)\r\n",
      "('Accounts, Kumiko', 31)\r\n",
      "('Accounts, Gaston', 31)\r\n",
      "('Accounts, Ayumi', 30)\r\n"
     ]
    }
   ],
   "source": [
    "\n",
    "# !{('head -n 20 data/Account-00000-of-00001')}\n",
    "# !{('head -n 20 data/HR-00000-of-00001')}\n",
    "!{('head -n 20 data/both-00000-of-00001')}\n"
   ]
  },
  {
   "cell_type": "code",
   "execution_count": null,
   "metadata": {},
   "outputs": [],
   "source": []
  },
  {
   "cell_type": "code",
   "execution_count": null,
   "metadata": {},
   "outputs": [],
   "source": []
  }
 ],
 "metadata": {
  "kernelspec": {
   "display_name": "Python 3",
   "language": "python",
   "name": "python3"
  },
  "language_info": {
   "codemirror_mode": {
    "name": "ipython",
    "version": 3
   },
   "file_extension": ".py",
   "mimetype": "text/x-python",
   "name": "python",
   "nbconvert_exporter": "python",
   "pygments_lexer": "ipython3",
   "version": "3.7.4"
  }
 },
 "nbformat": 4,
 "nbformat_minor": 2
}
