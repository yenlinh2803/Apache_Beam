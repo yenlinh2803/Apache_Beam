{
 "cells": [
  {
   "cell_type": "code",
   "execution_count": 1,
   "metadata": {},
   "outputs": [],
   "source": [
    "import apache_beam as beam\n",
    "\n",
    "def SplitRow(element):\n",
    "    return element.split(',')\n",
    "def filtering(record):\n",
    "    return record[3] == 'Accounts'"
   ]
  },
  {
   "cell_type": "code",
   "execution_count": 15,
   "metadata": {},
   "outputs": [
    {
     "name": "stderr",
     "output_type": "stream",
     "text": [
      "WARNING:apache_beam.io.filebasedsink:Deleting 1 existing files in target path matching: -*-of-%(num_shards)05d\n"
     ]
    },
    {
     "data": {
      "text/plain": [
       "<apache_beam.runners.portability.fn_api_runner.fn_runner.RunnerResult at 0x11c587c50>"
      ]
     },
     "execution_count": 15,
     "metadata": {},
     "output_type": "execute_result"
    }
   ],
   "source": [
    "p1 = beam.Pipeline()\n",
    "attendance_count = {\n",
    "    p1\n",
    "        |beam.io.ReadFromText('dept_data.txt')\n",
    "        |beam.Map(SplitRow)\n",
    "#         |beam.Map(lambda record: record.split(','))\n",
    "        |beam.Filter(filtering)\n",
    "        |beam.Map(lambda record: (record[1],1))\n",
    "        |beam.CombinePerKey(sum)\n",
    "        |beam.io.WriteToText('data/output_new_final')\n",
    "                  \n",
    "}\n",
    "p1.run()\n"
   ]
  },
  {
   "cell_type": "code",
   "execution_count": 16,
   "metadata": {},
   "outputs": [
    {
     "name": "stdout",
     "output_type": "stream",
     "text": [
      "('Marco', 31)\r\n",
      "('Rebekah', 31)\r\n",
      "('Itoe', 31)\r\n",
      "('Edouard', 31)\r\n",
      "('Kyle', 62)\r\n",
      "('Kumiko', 31)\r\n",
      "('Gaston', 31)\r\n",
      "('Ayumi', 30)\r\n"
     ]
    }
   ],
   "source": [
    "# Sample the first 20 results, remember there are no ordering guarantees.\n",
    "!{('head -n 20 data/output_new_final-00000-of-00001')}"
   ]
  },
  {
   "cell_type": "code",
   "execution_count": null,
   "metadata": {},
   "outputs": [],
   "source": []
  }
 ],
 "metadata": {
  "kernelspec": {
   "display_name": "Python 3",
   "language": "python",
   "name": "python3"
  },
  "language_info": {
   "codemirror_mode": {
    "name": "ipython",
    "version": 3
   },
   "file_extension": ".py",
   "mimetype": "text/x-python",
   "name": "python",
   "nbconvert_exporter": "python",
   "pygments_lexer": "ipython3",
   "version": "3.7.4"
  }
 },
 "nbformat": 4,
 "nbformat_minor": 2
}
