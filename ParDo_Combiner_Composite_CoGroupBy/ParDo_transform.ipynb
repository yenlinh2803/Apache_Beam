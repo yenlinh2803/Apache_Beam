{
 "cells": [
  {
   "cell_type": "code",
   "execution_count": 1,
   "metadata": {},
   "outputs": [],
   "source": [
    "import apache_beam as beam\n"
   ]
  },
  {
   "cell_type": "code",
   "execution_count": 2,
   "metadata": {},
   "outputs": [],
   "source": [
    "class SplitRow(beam.DoFn):\n",
    "    def process(self, element):\n",
    "        return [element.split(',')]\n",
    "    \n",
    "class FilterAccountsEmployee(beam.DoFn):\n",
    "    def process(self, element):\n",
    "        if element[3] == 'Accounts':\n",
    "            return [element]\n",
    "        \n",
    "class PairEmployees(beam.DoFn):\n",
    "    def process(self, element):\n",
    "        return [(element[3]+\",\"+element[1],1)]\n",
    "    \n",
    "class Counting(beam.DoFn):\n",
    "    def process(self, element):\n",
    "        (key, values) = element\n",
    "        return [(key,sum(values))]"
   ]
  },
  {
   "cell_type": "code",
   "execution_count": 4,
   "metadata": {},
   "outputs": [
    {
     "name": "stderr",
     "output_type": "stream",
     "text": [
      "WARNING:apache_beam.io.filebasedsink:Deleting 1 existing files in target path matching: -*-of-%(num_shards)05d\n"
     ]
    },
    {
     "name": "stdout",
     "output_type": "stream",
     "text": [
      "('Accounts,Marco', 31)\r\n",
      "('Accounts,Rebekah', 31)\r\n",
      "('Accounts,Itoe', 31)\r\n",
      "('Accounts,Edouard', 31)\r\n",
      "('Accounts,Kyle', 62)\r\n",
      "('Accounts,Kumiko', 31)\r\n",
      "('Accounts,Gaston', 31)\r\n",
      "('Accounts,Ayumi', 30)\r\n"
     ]
    }
   ],
   "source": [
    "p1 = beam.Pipeline()\n",
    "\n",
    "attendance_count = (\n",
    "    p1\n",
    "    |beam.io.ReadFromText('dept_data.txt')\n",
    "    |beam.ParDo(SplitRow())\n",
    "    |beam.ParDo(FilterAccountsEmployee())\n",
    "    |beam.ParDo(PairEmployees())\n",
    "#     | beam.Filter(lambda record: (record[3]+\" \"+record[1],1))\n",
    "    |'Group '>> beam.GroupByKey()\n",
    "    |'Sum using ParDo'>> beam.ParDo(Counting())\n",
    "    |beam.io.WriteToText('data/output_ParDo')\n",
    ")\n",
    "\n",
    "p1.run()\n",
    "\n",
    "!{('head -n 50 data/output_ParDo-00000-of-00001')}"
   ]
  },
  {
   "cell_type": "code",
   "execution_count": null,
   "metadata": {},
   "outputs": [],
   "source": []
  },
  {
   "cell_type": "code",
   "execution_count": null,
   "metadata": {},
   "outputs": [],
   "source": []
  }
 ],
 "metadata": {
  "kernelspec": {
   "display_name": "Python 3",
   "language": "python",
   "name": "python3"
  },
  "language_info": {
   "codemirror_mode": {
    "name": "ipython",
    "version": 3
   },
   "file_extension": ".py",
   "mimetype": "text/x-python",
   "name": "python",
   "nbconvert_exporter": "python",
   "pygments_lexer": "ipython3",
   "version": "3.7.4"
  }
 },
 "nbformat": 4,
 "nbformat_minor": 2
}
