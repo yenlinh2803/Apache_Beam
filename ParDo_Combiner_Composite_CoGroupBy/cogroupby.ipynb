{
 "cells": [
  {
   "cell_type": "code",
   "execution_count": 20,
   "metadata": {},
   "outputs": [],
   "source": [
    "import apache_beam as beam"
   ]
  },
  {
   "cell_type": "code",
   "execution_count": 21,
   "metadata": {},
   "outputs": [],
   "source": [
    "def reTuple(element):\n",
    "    thisTuple = element.split(',')\n",
    "    return (thisTuple[0],thisTuple[1])"
   ]
  },
  {
   "cell_type": "code",
   "execution_count": 23,
   "metadata": {},
   "outputs": [
    {
     "data": {
      "text/plain": [
       "<apache_beam.runners.portability.fn_api_runner.fn_runner.RunnerResult at 0x124791750>"
      ]
     },
     "execution_count": 23,
     "metadata": {},
     "output_type": "execute_result"
    }
   ],
   "source": [
    "p1 = beam.Pipeline()\n",
    "# Apply a ParDo to the PCollection \"words\" to compute lengths for each word\n",
    "\n",
    "dept_rows = (\n",
    "    p1\n",
    "    |\"Reading File 1\" >> beam.io.ReadFromText('dept_data.txt')\n",
    "    |\"Pair each employee with key\" >> beam.Map(reTuple)\n",
    "#     |'Write results for dept data' >> beam.io.WriteToText('data/dept_rows')\n",
    ")\n",
    "\n",
    "loc_rows = (\n",
    "    p1\n",
    "    |\"Reading File 2\">> beam.io.ReadFromText('location.txt')\n",
    "    |\"Pair each loc with key\" >> beam.Map(reTuple)\n",
    "#     |'Write results for location data' >> beam.io.WriteToText('data/location')\n",
    ")\n",
    "\n",
    "results = ({'dept_data':dept_rows, 'loc_data':loc_rows}\n",
    "           \n",
    "           | beam.CoGroupByKey()\n",
    "           |'Write results'>> beam.io.WriteToText('data/results')\n",
    "\n",
    ")\n",
    "p1.run()\n"
   ]
  },
  {
   "cell_type": "code",
   "execution_count": 26,
   "metadata": {
    "scrolled": false
   },
   "outputs": [
    {
     "name": "stdout",
     "output_type": "stream",
     "text": [
      "('149633CM', 'Marco')\n",
      "('212539MU', 'Rebekah')\n",
      "('231555ZZ', 'Itoe')\n",
      "('503996WI', 'Edouard')\n",
      "('704275DC', 'Kyle')\n",
      "('957149WC', 'Kyle')\n",
      "('241316NX', 'Kumiko')\n",
      "('796656IE', 'Gaston')\n",
      "('331593PS', 'Beryl')\n",
      "('560447WH', 'Olga')\n",
      "('222997TJ', 'Leslie')\n",
      "('171752SY', 'Mindy')\n",
      "('153636AS', 'Vicky')\n",
      "('745411HT', 'Richard')\n",
      "('298464HN', 'Kirk')\n",
      "('783950BW', 'Kaori')\n",
      "('892691AR', 'Beryl')\n",
      "('245668UZ', 'Oscar')\n",
      "('231206QD', 'Kumiko')\n",
      "('357919KT', 'Wendy')\n",
      "('149633CM', '9876843261')\n",
      "('149633CM', '9204232778')\n",
      "('212539MU', '9995440673')\n",
      "('231555ZZ', '9196597290')\n",
      "('503996WI', '9468234252')\n",
      "('704275DC', '9776235961')\n",
      "('957149WC', '9925595092')\n",
      "('241316NX', '9837402343')\n",
      "('796656IE', '9538848876')\n",
      "('718737IX', '9204232788')\n",
      "('331593PS', '9137216186')\n",
      "('560447WH', '9708010864')\n",
      "('222997TJ', '9410006713')\n",
      "('171752SY', '9494683837')\n",
      "('153636AS', '9575378417')\n",
      "('745411HT', '9391632080')\n",
      "('298464HN', '9982641601')\n",
      "('783950BW', '9248480224')\n",
      "('892691AR', '9723803710')\n",
      "('245668UZ', '9395037841')\n",
      "('149633CM', {'dept_data': ['Marco', 'Marco', 'Marco', 'Marco', 'Marco', 'Marco', 'Marco', 'Marco', 'Marco', 'Marco', 'Marco', 'Marco', 'Marco', 'Marco', 'Marco', 'Marco', 'Marco', 'Marco', 'Marco', 'Marco', 'Marco', 'Marco', 'Marco', 'Marco', 'Marco', 'Marco', 'Marco', 'Marco', 'Marco', 'Marco', 'Marco'], 'loc_data': ['9876843261', '9204232778']})\n",
      "('212539MU', {'dept_data': ['Rebekah', 'Rebekah', 'Rebekah', 'Rebekah', 'Rebekah', 'Rebekah', 'Rebekah', 'Rebekah', 'Rebekah', 'Rebekah', 'Rebekah', 'Rebekah', 'Rebekah', 'Rebekah', 'Rebekah', 'Rebekah', 'Rebekah', 'Rebekah', 'Rebekah', 'Rebekah', 'Rebekah', 'Rebekah', 'Rebekah', 'Rebekah', 'Rebekah', 'Rebekah', 'Rebekah', 'Rebekah', 'Rebekah', 'Rebekah', 'Rebekah'], 'loc_data': ['9995440673']})\n",
      "('231555ZZ', {'dept_data': ['Itoe', 'Itoe', 'Itoe', 'Itoe', 'Itoe', 'Itoe', 'Itoe', 'Itoe', 'Itoe', 'Itoe', 'Itoe', 'Itoe', 'Itoe', 'Itoe', 'Itoe', 'Itoe', 'Itoe', 'Itoe', 'Itoe', 'Itoe', 'Itoe', 'Itoe', 'Itoe', 'Itoe', 'Itoe', 'Itoe', 'Itoe', 'Itoe', 'Itoe', 'Itoe', 'Itoe'], 'loc_data': ['9196597290']})\n",
      "('503996WI', {'dept_data': ['Edouard', 'Edouard', 'Edouard', 'Edouard', 'Edouard', 'Edouard', 'Edouard', 'Edouard', 'Edouard', 'Edouard', 'Edouard', 'Edouard', 'Edouard', 'Edouard', 'Edouard', 'Edouard', 'Edouard', 'Edouard', 'Edouard', 'Edouard', 'Edouard', 'Edouard', 'Edouard', 'Edouard', 'Edouard', 'Edouard', 'Edouard', 'Edouard', 'Edouard', 'Edouard', 'Edouard'], 'loc_data': ['9468234252']})\n",
      "('704275DC', {'dept_data': ['Kyle', 'Kyle', 'Kyle', 'Kyle', 'Kyle', 'Kyle', 'Kyle', 'Kyle', 'Kyle', 'Kyle', 'Kyle', 'Kyle', 'Kyle', 'Kyle', 'Kyle', 'Kyle', 'Kyle', 'Kyle', 'Kyle', 'Kyle', 'Kyle', 'Kyle', 'Kyle', 'Kyle', 'Kyle', 'Kyle', 'Kyle', 'Kyle', 'Kyle', 'Kyle', 'Kyle'], 'loc_data': ['9776235961']})\n",
      "('957149WC', {'dept_data': ['Kyle', 'Kyle', 'Kyle', 'Kyle', 'Kyle', 'Kyle', 'Kyle', 'Kyle', 'Kyle', 'Kyle', 'Kyle', 'Kyle', 'Kyle', 'Kyle', 'Kyle', 'Kyle', 'Kyle', 'Kyle', 'Kyle', 'Kyle', 'Kyle', 'Kyle', 'Kyle', 'Kyle', 'Kyle', 'Kyle', 'Kyle', 'Kyle', 'Kyle', 'Kyle', 'Kyle'], 'loc_data': ['9925595092']})\n",
      "('241316NX', {'dept_data': ['Kumiko', 'Kumiko', 'Kumiko', 'Kumiko', 'Kumiko', 'Kumiko', 'Kumiko', 'Kumiko', 'Kumiko', 'Kumiko', 'Kumiko', 'Kumiko', 'Kumiko', 'Kumiko', 'Kumiko', 'Kumiko', 'Kumiko', 'Kumiko', 'Kumiko', 'Kumiko', 'Kumiko', 'Kumiko', 'Kumiko', 'Kumiko', 'Kumiko', 'Kumiko', 'Kumiko', 'Kumiko', 'Kumiko', 'Kumiko', 'Kumiko'], 'loc_data': ['9837402343']})\n",
      "('796656IE', {'dept_data': ['Gaston', 'Gaston', 'Gaston', 'Gaston', 'Gaston', 'Gaston', 'Gaston', 'Gaston', 'Gaston', 'Gaston', 'Gaston', 'Gaston', 'Gaston', 'Gaston', 'Gaston', 'Gaston', 'Gaston', 'Gaston', 'Gaston', 'Gaston', 'Gaston', 'Gaston', 'Gaston', 'Gaston', 'Gaston', 'Gaston', 'Gaston', 'Gaston', 'Gaston', 'Gaston', 'Gaston'], 'loc_data': ['9538848876']})\n",
      "('331593PS', {'dept_data': ['Beryl', 'Beryl', 'Beryl', 'Beryl', 'Beryl', 'Beryl', 'Beryl', 'Beryl', 'Beryl', 'Beryl', 'Beryl', 'Beryl', 'Beryl', 'Beryl', 'Beryl', 'Beryl', 'Beryl', 'Beryl', 'Beryl', 'Beryl', 'Beryl', 'Beryl', 'Beryl', 'Beryl', 'Beryl', 'Beryl', 'Beryl', 'Beryl', 'Beryl', 'Beryl', 'Beryl'], 'loc_data': ['9137216186']})\n",
      "('560447WH', {'dept_data': ['Olga', 'Olga', 'Olga', 'Olga', 'Olga', 'Olga', 'Olga', 'Olga', 'Olga', 'Olga', 'Olga', 'Olga', 'Olga', 'Olga', 'Olga', 'Olga', 'Olga', 'Olga', 'Olga', 'Olga', 'Olga', 'Olga', 'Olga', 'Olga', 'Olga', 'Olga', 'Olga', 'Olga', 'Olga', 'Olga', 'Olga'], 'loc_data': ['9708010864']})\n",
      "('222997TJ', {'dept_data': ['Leslie', 'Leslie', 'Leslie', 'Leslie', 'Leslie', 'Leslie', 'Leslie', 'Leslie', 'Leslie', 'Leslie', 'Leslie', 'Leslie', 'Leslie', 'Leslie', 'Leslie', 'Leslie', 'Leslie', 'Leslie', 'Leslie', 'Leslie', 'Leslie', 'Leslie', 'Leslie', 'Leslie', 'Leslie', 'Leslie', 'Leslie', 'Leslie', 'Leslie', 'Leslie', 'Leslie'], 'loc_data': ['9410006713']})\n",
      "('171752SY', {'dept_data': ['Mindy', 'Mindy', 'Mindy', 'Mindy', 'Mindy', 'Mindy', 'Mindy', 'Mindy', 'Mindy', 'Mindy', 'Mindy', 'Mindy', 'Mindy', 'Mindy', 'Mindy', 'Mindy', 'Mindy', 'Mindy', 'Mindy', 'Mindy', 'Mindy', 'Mindy', 'Mindy', 'Mindy', 'Mindy', 'Mindy', 'Mindy', 'Mindy', 'Mindy', 'Mindy', 'Mindy'], 'loc_data': ['9494683837']})\n",
      "('153636AS', {'dept_data': ['Vicky', 'Vicky', 'Vicky', 'Vicky', 'Vicky', 'Vicky', 'Vicky', 'Vicky', 'Vicky', 'Vicky', 'Vicky', 'Vicky', 'Vicky', 'Vicky', 'Vicky', 'Vicky', 'Vicky', 'Vicky', 'Vicky', 'Vicky', 'Vicky', 'Vicky', 'Vicky', 'Vicky', 'Vicky', 'Vicky', 'Vicky', 'Vicky', 'Vicky', 'Vicky', 'Vicky'], 'loc_data': ['9575378417']})\n",
      "('745411HT', {'dept_data': ['Richard', 'Richard', 'Richard', 'Richard', 'Richard', 'Richard', 'Richard', 'Richard', 'Richard', 'Richard', 'Richard', 'Richard', 'Richard', 'Richard', 'Richard', 'Richard', 'Richard', 'Richard', 'Richard', 'Richard', 'Richard', 'Richard', 'Richard', 'Richard', 'Richard', 'Richard', 'Richard', 'Richard', 'Richard', 'Richard', 'Richard'], 'loc_data': ['9391632080']})\n",
      "('298464HN', {'dept_data': ['Kirk', 'Kirk', 'Kirk', 'Kirk', 'Kirk', 'Kirk', 'Kirk', 'Kirk', 'Kirk', 'Kirk', 'Kirk', 'Kirk', 'Kirk', 'Kirk', 'Kirk', 'Kirk', 'Kirk', 'Kirk', 'Kirk', 'Kirk', 'Kirk', 'Kirk', 'Kirk', 'Kirk', 'Kirk', 'Kirk', 'Kirk', 'Kirk', 'Kirk', 'Kirk', 'Kirk'], 'loc_data': ['9982641601']})\n",
      "('783950BW', {'dept_data': ['Kaori', 'Kaori', 'Kaori', 'Kaori', 'Kaori', 'Kaori', 'Kaori', 'Kaori', 'Kaori', 'Kaori', 'Kaori', 'Kaori', 'Kaori', 'Kaori', 'Kaori', 'Kaori', 'Kaori', 'Kaori', 'Kaori', 'Kaori', 'Kaori', 'Kaori', 'Kaori', 'Kaori', 'Kaori', 'Kaori', 'Kaori', 'Kaori', 'Kaori', 'Kaori', 'Kaori'], 'loc_data': ['9248480224']})\n",
      "('892691AR', {'dept_data': ['Beryl', 'Beryl', 'Beryl', 'Beryl', 'Beryl', 'Beryl', 'Beryl', 'Beryl', 'Beryl', 'Beryl', 'Beryl', 'Beryl', 'Beryl', 'Beryl', 'Beryl', 'Beryl', 'Beryl', 'Beryl', 'Beryl', 'Beryl', 'Beryl', 'Beryl', 'Beryl', 'Beryl', 'Beryl', 'Beryl', 'Beryl', 'Beryl', 'Beryl', 'Beryl', 'Beryl'], 'loc_data': ['9723803710']})\n",
      "('245668UZ', {'dept_data': ['Oscar', 'Oscar', 'Oscar', 'Oscar', 'Oscar', 'Oscar', 'Oscar', 'Oscar', 'Oscar', 'Oscar', 'Oscar', 'Oscar', 'Oscar', 'Oscar', 'Oscar', 'Oscar', 'Oscar', 'Oscar', 'Oscar', 'Oscar', 'Oscar', 'Oscar', 'Oscar', 'Oscar', 'Oscar', 'Oscar', 'Oscar', 'Oscar', 'Oscar', 'Oscar', 'Oscar'], 'loc_data': ['9395037841']})\n",
      "('231206QD', {'dept_data': ['Kumiko', 'Kumiko', 'Kumiko', 'Kumiko', 'Kumiko', 'Kumiko', 'Kumiko', 'Kumiko', 'Kumiko', 'Kumiko', 'Kumiko', 'Kumiko', 'Kumiko', 'Kumiko', 'Kumiko', 'Kumiko', 'Kumiko', 'Kumiko', 'Kumiko', 'Kumiko', 'Kumiko', 'Kumiko', 'Kumiko', 'Kumiko', 'Kumiko', 'Kumiko', 'Kumiko', 'Kumiko', 'Kumiko', 'Kumiko', 'Kumiko'], 'loc_data': ['9608996582']})\n",
      "('357919KT', {'dept_data': ['Wendy', 'Wendy', 'Wendy', 'Wendy', 'Wendy', 'Wendy', 'Wendy', 'Wendy', 'Wendy', 'Wendy', 'Wendy', 'Wendy', 'Wendy', 'Wendy', 'Wendy', 'Wendy', 'Wendy', 'Wendy', 'Wendy', 'Wendy', 'Wendy', 'Wendy', 'Wendy', 'Wendy', 'Wendy', 'Wendy', 'Wendy', 'Wendy', 'Wendy', 'Wendy', 'Wendy'], 'loc_data': ['9935208129']})\n"
     ]
    }
   ],
   "source": [
    "!{('head -n 20 data/dept_rows-00000-of-00001')}\n",
    "# print(\"-\"*30)\n",
    "!{('head -n 20 data/location-00000-of-00001')}\n",
    "!{('head -n 20 data/results-00000-of-00001')}"
   ]
  },
  {
   "cell_type": "code",
   "execution_count": null,
   "metadata": {},
   "outputs": [],
   "source": []
  }
 ],
 "metadata": {
  "kernelspec": {
   "display_name": "Python 3",
   "language": "python",
   "name": "python3"
  },
  "language_info": {
   "codemirror_mode": {
    "name": "ipython",
    "version": 3
   },
   "file_extension": ".py",
   "mimetype": "text/x-python",
   "name": "python",
   "nbconvert_exporter": "python",
   "pygments_lexer": "ipython3",
   "version": "3.7.4"
  }
 },
 "nbformat": 4,
 "nbformat_minor": 2
}
