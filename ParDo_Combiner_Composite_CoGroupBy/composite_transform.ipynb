{
 "cells": [
  {
   "cell_type": "code",
   "execution_count": 25,
   "metadata": {},
   "outputs": [],
   "source": [
    "import apache_beam as beam\n"
   ]
  },
  {
   "cell_type": "code",
   "execution_count": 26,
   "metadata": {},
   "outputs": [],
   "source": [
    "# class MyTransform(beam.PTransform):\n",
    "#     def expand(self, input_coll):\n",
    "#         a=(\n",
    "#             input_coll\n",
    "#             |'Group and sum1'>> beam.CombinePerKey(sum)\n",
    "#             |'count filter accounts'>> beam.Filter(filter_on_count)\n",
    "#             |'Regular accounts employee'>> beam.Map(format_output)\n",
    "#         )\n",
    "\n",
    "# def SplitRow(element):\n",
    "#     return element.split(',')\n",
    "\n",
    "# def filter_on_count(element):\n",
    "#     name, count = element\n",
    "#     if count > 30:\n",
    "#         return element\n",
    "\n",
    "# def format_output(element):\n",
    "#     name, count = element\n",
    "#     return ', '.join((name.encode('ascii'), str(count),'Regular employee'))"
   ]
  },
  {
   "cell_type": "code",
   "execution_count": 27,
   "metadata": {},
   "outputs": [],
   "source": [
    "class MyTransform(beam.PTransform):\n",
    "  \n",
    "  def expand(self, input_coll):\n",
    "    \n",
    "    a = ( \n",
    "        input_coll\n",
    "                       | 'Group and sum1' >> beam.CombinePerKey(sum)\n",
    "                       | 'count filter accounts' >> beam.Filter(filter_on_count)\n",
    "                       | 'Regular accounts employee' >> beam.Map(format_output)\n",
    "              \n",
    "    )\n",
    "    return a\n",
    "\n",
    "def SplitRow(element):\n",
    "    return element.split(',')\n",
    "  \n",
    "def filter_on_count(element):\n",
    "    name, count = element\n",
    "    if count > 30:\n",
    "        return element\n",
    "      \n",
    "def format_output(element):\n",
    "    name, count = element\n",
    "    return ', '.join((name.encode('ascii'),str(count),'Regular employee'))\n"
   ]
  },
  {
   "cell_type": "code",
   "execution_count": 28,
   "metadata": {},
   "outputs": [
    {
     "name": "stderr",
     "output_type": "stream",
     "text": [
      "WARNING:apache_beam.io.filebasedsink:Deleting 1 existing files in target path matching: -*-of-%(num_shards)05d\n",
      "WARNING:apache_beam.io.filebasedsink:Deleting 1 existing files in target path matching: -*-of-%(num_shards)05d\n"
     ]
    },
    {
     "data": {
      "text/plain": [
       "<apache_beam.runners.portability.fn_api_runner.fn_runner.RunnerResult at 0x11dcc9cd0>"
      ]
     },
     "execution_count": 28,
     "metadata": {},
     "output_type": "execute_result"
    }
   ],
   "source": [
    "p = beam.Pipeline()\n",
    "\n",
    "input_collection = ( \n",
    "    p \n",
    "    | \"Read from text file\" >> beam.io.ReadFromText('dept_data.txt')\n",
    "    | \"Split rows\" >> beam.Map(SplitRow)\n",
    ")\n",
    "\n",
    "accounts_count = (\n",
    "    input_collection\n",
    "    | 'Get all Accounts dept persons' >> beam.Filter(lambda record: record[3] == 'Accounts')\n",
    "    | 'Pair each accounts employee with 1' >> beam.Map(lambda record: (\"Accounts, \" +record[1], 1))\n",
    "#     | 'Group and sum accounts' >> beam.CombinePerKey(sum)\n",
    "#     | 'count filter accounts Account' >> beam.Filter(filter_on_count)\n",
    "#     | 'Regular accounts employee Account' >> beam.Map(format_output)\n",
    "#     |'composite Account' >> MyTransform()\n",
    "    | 'Write results for account' >> beam.io.WriteToText('data/Account')\n",
    "                 )\n",
    "\n",
    "hr_count = (\n",
    "    input_collection\n",
    "    | 'Get all HR dept persons' >> beam.Filter(lambda record: record[3] == 'HR')\n",
    "    | 'Pair each hr employee with 1' >> beam.Map(lambda record: (\"HR, \" +record[1], 1))\n",
    "#     | 'Group and sum hr' >> beam.CombinePerKey(sum)\n",
    "#     | 'count filter accounts HR' >> beam.Filter(filter_on_count)\n",
    "#     | 'Regular accounts employee HR' >> beam.Map(format_output)\n",
    "#     |'composite HR' >> MyTransform()\n",
    "    | 'Write results for hr' >> beam.io.WriteToText('data/HR')\n",
    "           ) \n",
    "p.run()\n",
    "  "
   ]
  },
  {
   "cell_type": "code",
   "execution_count": null,
   "metadata": {},
   "outputs": [],
   "source": [
    "!{('head -n 20 data/composite_transform_Account-00000-of-00001')}"
   ]
  },
  {
   "cell_type": "code",
   "execution_count": 33,
   "metadata": {},
   "outputs": [
    {
     "name": "stderr",
     "output_type": "stream",
     "text": [
      "WARNING:apache_beam.io.filebasedsink:Deleting 1 existing files in target path matching: -*-of-%(num_shards)05d\n",
      "WARNING:apache_beam.io.filebasedsink:Deleting 1 existing files in target path matching: -*-of-%(num_shards)05d\n"
     ]
    },
    {
     "data": {
      "text/plain": [
       "<apache_beam.runners.portability.fn_api_runner.fn_runner.RunnerResult at 0x11f029610>"
      ]
     },
     "execution_count": 33,
     "metadata": {},
     "output_type": "execute_result"
    }
   ],
   "source": [
    "import apache_beam as beam\n",
    "\n",
    "class MyTransform(beam.PTransform):\n",
    "  \n",
    "  def expand(self, input_coll):\n",
    "    \n",
    "    a = ( \n",
    "        input_coll\n",
    "                       | 'Group and sum1' >> beam.CombinePerKey(sum)\n",
    "                       | 'count filter accounts' >> beam.Filter(filter_on_count)\n",
    "                       | 'Regular accounts employee' >> beam.Map(format_output)\n",
    "              \n",
    "    )\n",
    "    return a\n",
    "\n",
    "def SplitRow(element):\n",
    "    return element.split(',')\n",
    "\n",
    "def filter_on_count(element):\n",
    "    name, count = element\n",
    "    if count > 30:\n",
    "        return element\n",
    "\n",
    "def format_output(element):\n",
    "    name, count = element\n",
    "    return ((name.encode('ascii'),str(count),'Regular employee'))\n",
    "\n",
    "p = beam.Pipeline()\n",
    "\n",
    "input_collection = ( \n",
    "                      p \n",
    "                      | \"Read from text file\" >> beam.io.ReadFromText('dept_data.txt')\n",
    "                      | \"Split rows\" >> beam.Map(SplitRow)\n",
    "                   )\n",
    "\n",
    "accounts_count = (\n",
    "                      input_collection\n",
    "                      | 'Get all Accounts dept persons' >> beam.Filter(lambda record: record[3] == 'Accounts')\n",
    "                      | 'Pair each accounts employee with 1' >> beam.Map(lambda record: (\"Accounts, \" +record[1], 1))\n",
    "                      | 'composite accoubts' >> MyTransform()\n",
    "                      | 'Write results for account' >> beam.io.WriteToText('data/Account')\n",
    "                 )\n",
    "\n",
    "hr_count = (\n",
    "                input_collection\n",
    "                | 'Get all HR dept persons' >> beam.Filter(lambda record: record[3] == 'HR')\n",
    "                | 'Pair each hr employee with 1' >> beam.Map(lambda record: (\"HR, \" +record[1], 1))\n",
    "                | 'composite HR' >> MyTransform()\n",
    "                | 'Write results for hr' >> beam.io.WriteToText('data/HR')\n",
    "           ) \n",
    "p.run()\n",
    "  \n",
    "# Sample the first 20 results, remember there are no ordering guarantees.\n"
   ]
  },
  {
   "cell_type": "code",
   "execution_count": 34,
   "metadata": {},
   "outputs": [
    {
     "name": "stdout",
     "output_type": "stream",
     "text": [
      "(b'Accounts, Marco', '31', 'Regular employee')\n",
      "(b'Accounts, Rebekah', '31', 'Regular employee')\n",
      "(b'Accounts, Itoe', '31', 'Regular employee')\n",
      "(b'Accounts, Edouard', '31', 'Regular employee')\n",
      "(b'Accounts, Kyle', '62', 'Regular employee')\n",
      "(b'Accounts, Kumiko', '31', 'Regular employee')\n",
      "(b'Accounts, Gaston', '31', 'Regular employee')\n",
      "(b'HR, Beryl', '62', 'Regular employee')\n",
      "(b'HR, Olga', '31', 'Regular employee')\n",
      "(b'HR, Leslie', '31', 'Regular employee')\n",
      "(b'HR, Mindy', '31', 'Regular employee')\n",
      "(b'HR, Vicky', '31', 'Regular employee')\n",
      "(b'HR, Richard', '31', 'Regular employee')\n",
      "(b'HR, Kirk', '31', 'Regular employee')\n",
      "(b'HR, Kaori', '31', 'Regular employee')\n",
      "(b'HR, Oscar', '31', 'Regular employee')\n"
     ]
    }
   ],
   "source": [
    "!{('head -n 20 data/Account-00000-of-00001')}\n",
    "!{('head -n 20 data/HR-00000-of-00001')}"
   ]
  },
  {
   "cell_type": "code",
   "execution_count": null,
   "metadata": {},
   "outputs": [],
   "source": []
  }
 ],
 "metadata": {
  "kernelspec": {
   "display_name": "Python 3",
   "language": "python",
   "name": "python3"
  },
  "language_info": {
   "codemirror_mode": {
    "name": "ipython",
    "version": 3
   },
   "file_extension": ".py",
   "mimetype": "text/x-python",
   "name": "python",
   "nbconvert_exporter": "python",
   "pygments_lexer": "ipython3",
   "version": "3.7.4"
  }
 },
 "nbformat": 4,
 "nbformat_minor": 2
}
