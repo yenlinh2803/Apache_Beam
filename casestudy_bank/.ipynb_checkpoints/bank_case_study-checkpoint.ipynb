{
 "cells": [
  {
   "cell_type": "code",
   "execution_count": 1,
   "metadata": {},
   "outputs": [],
   "source": [
    "import apache_beam as beam\n",
    "# for datetime manipulation \n",
    "from datetime import datetime"
   ]
  },
  {
   "cell_type": "code",
   "execution_count": null,
   "metadata": {},
   "outputs": [],
   "source": [
    "p = beam.Pipeline()\n",
    "# def calculate_points(element):\n",
    "\n",
    "def format_result(sum_pair):\n",
    "    key_name, points = sum_pair\n",
    "    return str(key_name)+', ' + str(point)+ ' fraud_points'\n",
    "\n",
    "def caculate_payment(elements):  # [CT88330,Humberto,Banks,Serviceman,LN_1559,Medical Loan,26-01-2018,2000,30-01-2018]\n",
    "    due_date = datetime.strptime(elements[6].rstrip().lstrip(),'%d-%m-%Y')           # due_date = 26-01-2018\n",
    "    payment_date = datetime.strptime(elements[8].rstrip().lstrip(),'%d-%m-%Y')       # payment_date = 30-01-2018\n",
    "    if payment_date <= due_date:\n",
    "        elements.append('0')\n",
    "    else: \n",
    "        elements.append('1')    # [CT88330,Humberto,Banks,Serviceman,LN_1559,Medical Loan,26-01-2018,2000,30-01-2018,1]\n",
    "    return elements\n",
    "\n",
    "def format_output(sum_pair):\n",
    "    key_name, miss_months = sum_pair\n",
    "    return str(key_name)+', '+ str(miss_months)+' missed'\n",
    "\n",
    "def calculate_month(input_list):   #input  [CT88330,Humberto,Banks,Serviceman,LN_1559,Medical Loan,26-01-2018, 2000, 30-01-2018]\n",
    "    print(\"Start calculate_month def \")\n",
    "    # Convert payment_date to datetime and extract month of payment\n",
    "    payment_date = datetime.strptime(input_list[8].rstrip().lstrip(),'%d-%m-%Y')\n",
    "    print(\"payment_date: \",payment_date)\n",
    "    payment_month = str(payment_date.month)\n",
    "    input_list.append(payment_month)\n",
    "    return input_list\n",
    "\n",
    "def calculate_personal_loan_defaulter(input):\n",
    "    max_allowed_missed_months = 4\n",
    "    max_allowed_consecutive_missing = 2\n",
    "    \n",
    "    name, months_list = input\n",
    "    \n",
    "    months_list.sort()\n",
    "    sorted_months = months_list\n",
    "    total_payments = len(sorted_months)\n",
    "    \n",
    "    missed_payments = 12 -total_payments\n",
    "    \n",
    "    \n",
    "    \n",
    "    "
   ]
  },
  {
   "cell_type": "code",
   "execution_count": 5,
   "metadata": {},
   "outputs": [
    {
     "name": "stdout",
     "output_type": "stream",
     "text": [
      "banana\n",
      "of all fruits banana is my favorite\n"
     ]
    }
   ],
   "source": [
    "txt = \"     banana     \"\n",
    "x = txt.rstrip().lstrip()\n",
    "print(x)\n",
    "print(\"of all fruits\", x, \"is my favorite\")"
   ]
  },
  {
   "cell_type": "code",
   "execution_count": null,
   "metadata": {},
   "outputs": [],
   "source": []
  }
 ],
 "metadata": {
  "kernelspec": {
   "display_name": "Python 3",
   "language": "python",
   "name": "python3"
  },
  "language_info": {
   "codemirror_mode": {
    "name": "ipython",
    "version": 3
   },
   "file_extension": ".py",
   "mimetype": "text/x-python",
   "name": "python",
   "nbconvert_exporter": "python",
   "pygments_lexer": "ipython3",
   "version": "3.7.4"
  }
 },
 "nbformat": 4,
 "nbformat_minor": 2
}
